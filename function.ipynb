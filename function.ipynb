{
  "nbformat": 4,
  "nbformat_minor": 0,
  "metadata": {
    "colab": {
      "provenance": []
    },
    "kernelspec": {
      "name": "python3",
      "display_name": "Python 3"
    },
    "language_info": {
      "name": "python"
    }
  },
  "cells": [
    {
      "cell_type": "markdown",
      "source": [
        "1. What is the difference between a function and a method in Python?\n",
        "-  The key difference between a function and a method in Python:\n",
        "\n",
        " Function:\n",
        "A function is a block of code that performs a specific task.\n",
        "\n",
        "It is defined using def and is independent of any object.\n",
        "\n",
        "Can be called on its own.\n",
        "\n",
        " Method:\n",
        "A method is a function that is associated with an object (i.e., belongs to a class).\n",
        "\n",
        "It is called on an object and often operates on that object’s data.\n",
        "\n",
        "Defined inside a class using def."
      ],
      "metadata": {
        "id": "DNHvbVmHg-39"
      }
    },
    {
      "cell_type": "markdown",
      "source": [
        "2. Explain the concept of function arguments and parameters in Python.\n",
        "\n",
        "-  Parameters:\n",
        "Defined in the function declaration.\n",
        "\n",
        "Placeholders for the values the function will receive.\n",
        "\n",
        "Example:\n",
        "def greet(name):  # ← 'name' is a parameter\n",
        "    print(f\"Hello, {name}!\")\n",
        "     \n",
        "   Arguments:\n",
        "Actual values passed to the function when it is called.\n",
        "\n",
        "These values are assigned to the corresponding parameters.\n",
        "\n",
        "Example:greet(\"Alice\")  # ← \"Alice\" is the argument\n"
      ],
      "metadata": {
        "id": "GDssSW-fh6L3"
      }
    },
    {
      "cell_type": "markdown",
      "source": [
        "3. What are the different ways to define and call a function in Python?\n",
        "- In Python, functions can be defined and called in several ways, depending on the use case and the programming style. Here's a breakdown of the different ways to define and call functions in Python:\n",
        "\n",
        "1. Standard Function Definition\n",
        "Using the def keyword:\n",
        "\n",
        "  def greet(name):\n",
        "    return f\"Hello, {name}!\"\n",
        "\n",
        "2. Function with Default Parameters\n",
        "\n",
        " def greet(name=\"Guest\"):\n",
        "    return f\"Hello, {name}!\"\n",
        "3. Function with Variable Number of Arguments\n",
        "Positional arguments (*args):\n",
        "\n",
        "  def add(*args):\n",
        "    return sum(args)\n",
        "\n",
        " add(1, 2, 3)  # 6\n",
        " Keyword arguments (**kwargs):\n",
        "\n",
        " def print_info(**kwargs):\n",
        "    for key, value in kwargs.items():\n",
        "        print(f\"{key}: {value}\")\n",
        "\n",
        "print_info(name=\"Alice\", age=25)\n",
        "4. Lambda Functions (Anonymous Functions)\n",
        "\n",
        " add = lambda x, y: x + y\n",
        " print(add(2, 3))  # 5\n",
        " Used for simple, one-line functions, often passed as arguments.\n",
        "\n",
        "5. Nested Functions\n",
        "\n",
        " def outer():\n",
        "  def inner():\n",
        "      return \"Inner function\"\n",
        "    return inner()\n",
        "\n",
        " print(outer())\n",
        "6. Functions as First-Class Citizens\n",
        "\n",
        " Functions can be assigned to variables, passed as arguments, or returned from other functions.\n",
        "\n",
        "\n",
        "  def shout(text):\n",
        "     return text.upper()\n",
        "\n",
        " def whisper(text):\n",
        "     return text.lower()\n",
        "\n",
        " def greet(func):\n",
        "     return func(\"Hello\")\n",
        "\n",
        "print(greet(shout))  # \"HELLO\"\n",
        "7. Using functools.partial for Partial Functions\n",
        "\n",
        " from functools import partial\n",
        "\n",
        " def power(base, exponent):\n",
        "     return base ** exponent\n",
        "\n",
        " square = partial(power, exponent=2)\n",
        "print(square(5))  # 25\n",
        "8. Calling Functions Dynamically\n",
        " Using globals() or getattr():\n",
        "\n",
        "\n",
        " def hello():\n",
        "     return \"Hello!\"\n",
        "\n",
        " func_name = \"hello\"\n",
        " print(globals()[func_name]())  # Call function by name\n"
      ],
      "metadata": {
        "id": "cVV8Cb1gikgI"
      }
    },
    {
      "cell_type": "markdown",
      "source": [
        "4. What is the purpose of the `return` statement in a Python function?\n",
        "\n",
        "- The `return` statement is used to send a value back from a function to the caller. It ends the function execution and provides the result to the caller. Without `return`, the function will return `None` by default.\n",
        "\n",
        "Example:\n",
        "```python\n",
        "def add(a, b):\n",
        "    return a + b\n",
        "\n",
        "result = add(2, 3)\n",
        "print(result)  # Output: 5\n",
        "```\n"
      ],
      "metadata": {
        "id": "V8GSdSASh6IU"
      }
    },
    {
      "cell_type": "markdown",
      "source": [
        "5. What are iterators in Python and how do they differ from iterables?\n",
        "- An **iterable** is any Python object capable of returning its members one at a time (like lists, tuples, strings). An **iterator** is an object with a `__next__()` method that fetches the next item.\n",
        "\n",
        "Example:\n",
        "```python\n",
        "nums = [1, 2, 3]  # Iterable\n",
        "it = iter(nums)  # Iterator\n",
        "print(next(it))  # 1\n",
        "```\n"
      ],
      "metadata": {
        "id": "LdID_Cuzh6Fo"
      }
    },
    {
      "cell_type": "markdown",
      "source": [
        "6. Explain the concept of generators in Python and how they are defined.\n",
        "- Generators are a type of iterable that yield items one by one using the `yield` keyword. They do not store the entire sequence in memory.\n",
        "\n",
        "Example:\n",
        "```python\n",
        "def count_up_to(n):\n",
        "    i = 1\n",
        "    while i <= n:\n",
        "        yield i\n",
        "        i += 1\n",
        "\n",
        "for num in count_up_to(3):\n",
        "    print(num)\n",
        "```\n"
      ],
      "metadata": {
        "id": "l08nQZ8Mh6D6"
      }
    },
    {
      "cell_type": "markdown",
      "source": [
        "7. What are the advantages of using generators over regular functions?\n",
        "- **Memory efficient** (don't store entire data in memory)\n",
        "- **Lazy evaluation** (compute values on the fly)\n",
        "- **Can represent infinite sequences**\n",
        "- **Improved performance for large datasets**\n"
      ],
      "metadata": {
        "id": "sp5RWCkAh6A0"
      }
    },
    {
      "cell_type": "markdown",
      "source": [
        "8. What is a lambda function in Python and when is it typically used?\n",
        "- A lambda function is a small anonymous function defined with the `lambda` keyword. It's often used for short, throwaway functions.\n",
        "\n",
        "Example:\n",
        "```python\n",
        "square = lambda x: x * x\n",
        "print(square(5))  # Output: 25\n",
        "```\n"
      ],
      "metadata": {
        "id": "wDKt4gVNmPuJ"
      }
    },
    {
      "cell_type": "markdown",
      "source": [
        "9. Explain the purpose and usage of the `map()` function in Python.\n",
        "- map() applies a given function to all items in an iterable.\n",
        "\n",
        "Example:\n",
        "```python\n",
        "nums = [1, 2, 3, 4]\n",
        "squares = list(map(lambda x: x*x, nums))\n",
        "print(squares)  # Output: [1, 4, 9, 16]\n",
        "```\n"
      ],
      "metadata": {
        "id": "JM86eZmCmPqe"
      }
    },
    {
      "cell_type": "markdown",
      "source": [
        "10. What is the difference between `map()`, `reduce()`, and `filter()` functions in Python?\n",
        "- `map(func, iterable)`: Applies `func` to each item.\n",
        "- `filter(func, iterable)`: Keeps items where `func(item)` is `True`.\n",
        "- `reduce(func, iterable)`: Repeatedly applies `func` to reduce iterable to a single value (requires `functools.reduce`).\n",
        "\n",
        "Example:\n",
        "```python\n",
        "from functools import reduce\n",
        "nums = [1, 2, 3, 4]\n",
        "sum_result = reduce(lambda x, y: x + y, nums)\n",
        "print(sum_result)  # Output: 10\n",
        "```\n"
      ],
      "metadata": {
        "id": "a0sSDVQwmPoO"
      }
    },
    {
      "cell_type": "markdown",
      "source": [],
      "metadata": {
        "id": "wUUgap1FmPlu"
      }
    },
    {
      "cell_type": "markdown",
      "source": [
        "11. Using pen & Paper write the internal mechanism for sum operation using  reduce function on this given\n",
        "list:[47,11,42,13];"
      ],
      "metadata": {
        "id": "aLu_HKerh5zr"
      }
    },
    {
      "cell_type": "code",
      "source": [
        "Practical Questions:\n",
        "\n",
        "1.Write a Python function that takes a list of numbers as input and returns the sum of all even numbers in the list.\n",
        "def sum_even(numbers):\n",
        "    return sum(num for num in numbers if num % 2 == 0)\n",
        "\n",
        "# Example:\n",
        "print(sum_even([1, 2, 3, 4, 5, 6]))  # Output: 12"
      ],
      "metadata": {
        "id": "Hj5SQLcCyzVD"
      },
      "execution_count": null,
      "outputs": []
    },
    {
      "cell_type": "code",
      "source": [
        "2. Create a Python function that accepts a string and returns the reverse of that string\n",
        " def reverse_string(s):\n",
        "    return s[::-1]\n",
        "\n",
        "# Example:\n",
        "print(reverse_string(\"hello\"))  # Output: \"olleh\""
      ],
      "metadata": {
        "id": "4PGGFM6syzSo"
      },
      "execution_count": null,
      "outputs": []
    },
    {
      "cell_type": "code",
      "source": [
        "3. Squares of a list of integers\n",
        "def square_list(numbers):\n",
        "    return [x ** 2 for x in numbers]\n",
        "# Example:\n",
        "print(square_list([1, 2, 3, 4]))  # Output: [1, 4, 9, 16]\n",
        "\n"
      ],
      "metadata": {
        "id": "pN5Y8AgcyzPe"
      },
      "execution_count": null,
      "outputs": []
    },
    {
      "cell_type": "code",
      "source": [
        "4. Prime check from 1 to 200\n",
        "\n",
        "def is_prime(n):\n",
        "    if n <= 1:\n",
        "        return False\n",
        "    for i in range(2, int(n ** 0.5) + 1):\n",
        "        if n % i == 0:\n",
        "            return False\n",
        "    return True\n",
        "\n",
        "# Example: Print all primes from 1 to 200\n",
        "primes = [n for n in range(1, 201) if is_prime(n)]\n",
        "print(primes)\n"
      ],
      "metadata": {
        "id": "6Jsn4yFKyzD5"
      },
      "execution_count": null,
      "outputs": []
    },
    {
      "cell_type": "code",
      "execution_count": null,
      "metadata": {
        "id": "U7HAWUjQg8sD"
      },
      "outputs": [],
      "source": [
        "5. Fibonacci iterator class\n",
        "\n",
        "class Fibonacci:\n",
        "    def __init__(self, max_terms):\n",
        "        self.max_terms = max_terms\n",
        "        self.a, self.b = 0, 1\n",
        "        self.count = 0\n",
        "\n",
        "    def __iter__(self):\n",
        "        return self\n",
        "\n",
        "    def __next__(self):\n",
        "        if self.count >= self.max_terms:\n",
        "            raise StopIteration\n",
        "        self.count += 1\n",
        "        self.a, self.b = self.b, self.a + self.b\n",
        "        return self.a\n",
        "\n",
        "# Example:\n",
        "for num in Fibonacci(10):\n",
        "    print(num)\n"
      ]
    },
    {
      "cell_type": "code",
      "source": [
        "6. Powers of 2 generator\n",
        "\n",
        "def powers_of_two(max_exp):\n",
        "    for i in range(max_exp + 1):\n",
        "        yield 2 ** i\n",
        "\n",
        "# Example:\n",
        "for val in powers_of_two(5):\n",
        "    print(val)\n"
      ],
      "metadata": {
        "id": "mpfuEt0p1GlW"
      },
      "execution_count": null,
      "outputs": []
    },
    {
      "cell_type": "code",
      "source": [
        "7. Generator for reading file line by line\n",
        "\n",
        "def read_lines(file_path):\n",
        "    with open(file_path, 'r') as file:\n",
        "        for line in file:\n",
        "            yield line.strip()\n",
        "\n",
        "# Example usage:\n",
        "# for line in read_lines('example.txt'):\n",
        "#     print(line)\n"
      ],
      "metadata": {
        "id": "pb5CmHCZ1GAt"
      },
      "execution_count": null,
      "outputs": []
    },
    {
      "cell_type": "code",
      "source": [
        "8. Sort list of tuples by second element using lambda\n",
        "\n",
        "data = [(1, 3), (4, 1), (2, 2)]\n",
        "sorted_data = sorted(data, key=lambda x: x[1])\n",
        "print(sorted_data)  # Output: [(4, 1), (2, 2), (1, 3)]\n"
      ],
      "metadata": {
        "id": "0MP9HkEd1m0t"
      },
      "execution_count": null,
      "outputs": []
    },
    {
      "cell_type": "code",
      "source": [
        "9. Convert Celsius to Fahrenheit using map()\n",
        "\n",
        "celsius = [0, 20, 30, 40]\n",
        "fahrenheit = list(map(lambda c: (c * 9/5) + 32, celsius))\n",
        "print(fahrenheit)  # Output: [32.0, 68.0, 86.0, 104.0]\n"
      ],
      "metadata": {
        "id": "XZZ6mY0c1mr7"
      },
      "execution_count": null,
      "outputs": []
    },
    {
      "cell_type": "code",
      "source": [
        "10. Remove vowels using filter()\n",
        "\n",
        "def remove_vowels(s):\n",
        "    return ''.join(filter(lambda x: x.lower() not in 'aeiou', s))\n",
        "\n",
        "# Example:\n",
        "print(remove_vowels(\"Hello World\"))  # Output: \"Hll Wrld\"\n"
      ],
      "metadata": {
        "id": "j6tPWq921mKD"
      },
      "execution_count": null,
      "outputs": []
    }
  ]
}